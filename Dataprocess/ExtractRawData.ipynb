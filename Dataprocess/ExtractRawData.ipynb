{
 "cells": [
  {
   "cell_type": "markdown",
   "metadata": {
    "collapsed": false
   },
   "source": [
    "# Extract Raw Data from ObserveRTC\n",
    "\n",
    "The output is a CSV file which will be appened to after each run.\n",
    "\n",
    "A local file will keep track of when the script was run last and only query data for that given time period.\n",
    "\n",
    "If there already exists a local data file, then it will load it and remove the latest duplicates. \n",
    "\n",
    "And append the newest entries. After this other data processing can happen by reading the CSV file."
   ]
  },
  {
   "cell_type": "code",
   "execution_count": 1,
   "metadata": {},
   "outputs": [],
   "source": [
    "import sys\n",
    "from dotenv import load_dotenv\n",
    "from pymongo import MongoClient\n",
    "from datetime import datetime, timedelta\n",
    "import pandas as pd\n",
    "import os\n",
    "import json\n",
    "import logging\n",
    "\n",
    "\n",
    "logging.basicConfig(\n",
    "  format=f'%(asctime)s %(levelname)-8s %(message)s ',\n",
    "  level=logging.INFO,\n",
    "  datefmt='%Y-%m-%d %H:%M:%S',\n",
    "  handlers=[\n",
    "  logging.StreamHandler(sys.stdout)\n",
    "  ])"
   ]
  },
  {
   "cell_type": "code",
   "execution_count": 2,
   "metadata": {
    "collapsed": false
   },
   "outputs": [
    {
     "name": "stdout",
     "output_type": "stream",
     "text": [
      "2023-01-26 11:11:01 INFO     Starting query for date range 2022-12-22 00:00:00 to 2022-12-23 00:00:00. \n",
      "2023-01-26 11:11:01 INFO     Query: {'type': 'CLIENT_EXTENSION_DATA', 'payload.extensionType': {'$in': ['OUT_BOUND_RTC', 'IN_BOUND_RTC', 'REMOTE_OUT_BOUND_RTC', 'REMOTE_IN_BOUND_RTC']}, 'payload.timestamp': {'$lt': 1671750000000.0}} \n",
      "2023-01-26 11:11:29 INFO     Starting query for date range 2022-12-23 00:00:00 to 2022-12-24 00:00:00. \n",
      "2023-01-26 11:11:29 INFO     Query: {'type': 'CLIENT_EXTENSION_DATA', 'payload.extensionType': {'$in': ['OUT_BOUND_RTC', 'IN_BOUND_RTC', 'REMOTE_OUT_BOUND_RTC', 'REMOTE_IN_BOUND_RTC']}, 'payload.timestamp': {'$lt': 1671836400000.0}} \n",
      "2023-01-26 11:11:35 INFO     Starting query for date range 2022-12-24 00:00:00 to 2022-12-25 00:00:00. \n",
      "2023-01-26 11:11:35 INFO     Query: {'type': 'CLIENT_EXTENSION_DATA', 'payload.extensionType': {'$in': ['OUT_BOUND_RTC', 'IN_BOUND_RTC', 'REMOTE_OUT_BOUND_RTC', 'REMOTE_IN_BOUND_RTC']}, 'payload.timestamp': {'$lt': 1671922800000.0}} \n",
      "2023-01-26 11:11:51 INFO     Starting query for date range 2022-12-25 00:00:00 to 2022-12-26 00:00:00. \n",
      "2023-01-26 11:11:51 INFO     Query: {'type': 'CLIENT_EXTENSION_DATA', 'payload.extensionType': {'$in': ['OUT_BOUND_RTC', 'IN_BOUND_RTC', 'REMOTE_OUT_BOUND_RTC', 'REMOTE_IN_BOUND_RTC']}, 'payload.timestamp': {'$lt': 1672009200000.0}} \n",
      "2023-01-26 11:12:19 INFO     Starting query for date range 2022-12-26 00:00:00 to 2022-12-27 00:00:00. \n",
      "2023-01-26 11:12:19 INFO     Query: {'type': 'CLIENT_EXTENSION_DATA', 'payload.extensionType': {'$in': ['OUT_BOUND_RTC', 'IN_BOUND_RTC', 'REMOTE_OUT_BOUND_RTC', 'REMOTE_IN_BOUND_RTC']}, 'payload.timestamp': {'$lt': 1672095600000.0}} \n",
      "2023-01-26 11:12:56 INFO     Starting query for date range 2022-12-27 00:00:00 to 2022-12-28 00:00:00. \n",
      "2023-01-26 11:12:56 INFO     Query: {'type': 'CLIENT_EXTENSION_DATA', 'payload.extensionType': {'$in': ['OUT_BOUND_RTC', 'IN_BOUND_RTC', 'REMOTE_OUT_BOUND_RTC', 'REMOTE_IN_BOUND_RTC']}, 'payload.timestamp': {'$lt': 1672182000000.0}} \n",
      "2023-01-26 11:14:00 INFO     Starting query for date range 2022-12-28 00:00:00 to 2022-12-29 00:00:00. \n",
      "2023-01-26 11:14:00 INFO     Query: {'type': 'CLIENT_EXTENSION_DATA', 'payload.extensionType': {'$in': ['OUT_BOUND_RTC', 'IN_BOUND_RTC', 'REMOTE_OUT_BOUND_RTC', 'REMOTE_IN_BOUND_RTC']}, 'payload.timestamp': {'$lt': 1672268400000.0}} \n"
     ]
    },
    {
     "ename": "KeyboardInterrupt",
     "evalue": "",
     "output_type": "error",
     "traceback": [
      "\u001b[1;31m---------------------------------------------------------------------------\u001b[0m",
      "\u001b[1;31mKeyboardInterrupt\u001b[0m                         Traceback (most recent call last)",
      "\u001b[1;32mc:\\Users\\JTT\\Documents\\git\\OnionRTC-experiment\\Dataprocess\\ExtractRawData.ipynb Cell 3\u001b[0m in \u001b[0;36m<cell line: 20>\u001b[1;34m()\u001b[0m\n\u001b[0;32m     <a href='vscode-notebook-cell:/c%3A/Users/JTT/Documents/git/OnionRTC-experiment/Dataprocess/ExtractRawData.ipynb#W2sZmlsZQ%3D%3D?line=73'>74</a>\u001b[0m     newData[\u001b[39m\"\u001b[39m\u001b[39mclientId\u001b[39m\u001b[39m\"\u001b[39m]\u001b[39m=\u001b[39mnewData[\u001b[39m\"\u001b[39m\u001b[39mclientId\u001b[39m\u001b[39m\"\u001b[39m]\u001b[39m.\u001b[39mastype(\u001b[39mstr\u001b[39m)\n\u001b[0;32m     <a href='vscode-notebook-cell:/c%3A/Users/JTT/Documents/git/OnionRTC-experiment/Dataprocess/ExtractRawData.ipynb#W2sZmlsZQ%3D%3D?line=74'>75</a>\u001b[0m     newData[\u001b[39m\"\u001b[39m\u001b[39muserId\u001b[39m\u001b[39m\"\u001b[39m]\u001b[39m=\u001b[39mnewData[\u001b[39m\"\u001b[39m\u001b[39muserId\u001b[39m\u001b[39m\"\u001b[39m]\u001b[39m.\u001b[39mastype(\u001b[39mstr\u001b[39m)\n\u001b[1;32m---> <a href='vscode-notebook-cell:/c%3A/Users/JTT/Documents/git/OnionRTC-experiment/Dataprocess/ExtractRawData.ipynb#W2sZmlsZQ%3D%3D?line=75'>76</a>\u001b[0m     newData\u001b[39m.\u001b[39;49mto_csv(filename, mode\u001b[39m=\u001b[39;49m\u001b[39m'\u001b[39;49m\u001b[39mw\u001b[39;49m\u001b[39m'\u001b[39;49m, header\u001b[39m=\u001b[39;49m\u001b[39mTrue\u001b[39;49;00m, index\u001b[39m=\u001b[39;49m\u001b[39mFalse\u001b[39;49;00m)\n\u001b[0;32m     <a href='vscode-notebook-cell:/c%3A/Users/JTT/Documents/git/OnionRTC-experiment/Dataprocess/ExtractRawData.ipynb#W2sZmlsZQ%3D%3D?line=77'>78</a>\u001b[0m dateStart \u001b[39m=\u001b[39m dateEnd\n\u001b[0;32m     <a href='vscode-notebook-cell:/c%3A/Users/JTT/Documents/git/OnionRTC-experiment/Dataprocess/ExtractRawData.ipynb#W2sZmlsZQ%3D%3D?line=78'>79</a>\u001b[0m \u001b[39m# Add a day to the end date\u001b[39;00m\n",
      "File \u001b[1;32mc:\\Users\\JTT\\AppData\\Local\\Programs\\Python\\Python39\\lib\\site-packages\\pandas\\util\\_decorators.py:211\u001b[0m, in \u001b[0;36mdeprecate_kwarg.<locals>._deprecate_kwarg.<locals>.wrapper\u001b[1;34m(*args, **kwargs)\u001b[0m\n\u001b[0;32m    209\u001b[0m     \u001b[39melse\u001b[39;00m:\n\u001b[0;32m    210\u001b[0m         kwargs[new_arg_name] \u001b[39m=\u001b[39m new_arg_value\n\u001b[1;32m--> 211\u001b[0m \u001b[39mreturn\u001b[39;00m func(\u001b[39m*\u001b[39margs, \u001b[39m*\u001b[39m\u001b[39m*\u001b[39mkwargs)\n",
      "File \u001b[1;32mc:\\Users\\JTT\\AppData\\Local\\Programs\\Python\\Python39\\lib\\site-packages\\pandas\\core\\generic.py:3720\u001b[0m, in \u001b[0;36mNDFrame.to_csv\u001b[1;34m(self, path_or_buf, sep, na_rep, float_format, columns, header, index, index_label, mode, encoding, compression, quoting, quotechar, lineterminator, chunksize, date_format, doublequote, escapechar, decimal, errors, storage_options)\u001b[0m\n\u001b[0;32m   3709\u001b[0m df \u001b[39m=\u001b[39m \u001b[39mself\u001b[39m \u001b[39mif\u001b[39;00m \u001b[39misinstance\u001b[39m(\u001b[39mself\u001b[39m, ABCDataFrame) \u001b[39melse\u001b[39;00m \u001b[39mself\u001b[39m\u001b[39m.\u001b[39mto_frame()\n\u001b[0;32m   3711\u001b[0m formatter \u001b[39m=\u001b[39m DataFrameFormatter(\n\u001b[0;32m   3712\u001b[0m     frame\u001b[39m=\u001b[39mdf,\n\u001b[0;32m   3713\u001b[0m     header\u001b[39m=\u001b[39mheader,\n\u001b[1;32m   (...)\u001b[0m\n\u001b[0;32m   3717\u001b[0m     decimal\u001b[39m=\u001b[39mdecimal,\n\u001b[0;32m   3718\u001b[0m )\n\u001b[1;32m-> 3720\u001b[0m \u001b[39mreturn\u001b[39;00m DataFrameRenderer(formatter)\u001b[39m.\u001b[39;49mto_csv(\n\u001b[0;32m   3721\u001b[0m     path_or_buf,\n\u001b[0;32m   3722\u001b[0m     lineterminator\u001b[39m=\u001b[39;49mlineterminator,\n\u001b[0;32m   3723\u001b[0m     sep\u001b[39m=\u001b[39;49msep,\n\u001b[0;32m   3724\u001b[0m     encoding\u001b[39m=\u001b[39;49mencoding,\n\u001b[0;32m   3725\u001b[0m     errors\u001b[39m=\u001b[39;49merrors,\n\u001b[0;32m   3726\u001b[0m     compression\u001b[39m=\u001b[39;49mcompression,\n\u001b[0;32m   3727\u001b[0m     quoting\u001b[39m=\u001b[39;49mquoting,\n\u001b[0;32m   3728\u001b[0m     columns\u001b[39m=\u001b[39;49mcolumns,\n\u001b[0;32m   3729\u001b[0m     index_label\u001b[39m=\u001b[39;49mindex_label,\n\u001b[0;32m   3730\u001b[0m     mode\u001b[39m=\u001b[39;49mmode,\n\u001b[0;32m   3731\u001b[0m     chunksize\u001b[39m=\u001b[39;49mchunksize,\n\u001b[0;32m   3732\u001b[0m     quotechar\u001b[39m=\u001b[39;49mquotechar,\n\u001b[0;32m   3733\u001b[0m     date_format\u001b[39m=\u001b[39;49mdate_format,\n\u001b[0;32m   3734\u001b[0m     doublequote\u001b[39m=\u001b[39;49mdoublequote,\n\u001b[0;32m   3735\u001b[0m     escapechar\u001b[39m=\u001b[39;49mescapechar,\n\u001b[0;32m   3736\u001b[0m     storage_options\u001b[39m=\u001b[39;49mstorage_options,\n\u001b[0;32m   3737\u001b[0m )\n",
      "File \u001b[1;32mc:\\Users\\JTT\\AppData\\Local\\Programs\\Python\\Python39\\lib\\site-packages\\pandas\\util\\_decorators.py:211\u001b[0m, in \u001b[0;36mdeprecate_kwarg.<locals>._deprecate_kwarg.<locals>.wrapper\u001b[1;34m(*args, **kwargs)\u001b[0m\n\u001b[0;32m    209\u001b[0m     \u001b[39melse\u001b[39;00m:\n\u001b[0;32m    210\u001b[0m         kwargs[new_arg_name] \u001b[39m=\u001b[39m new_arg_value\n\u001b[1;32m--> 211\u001b[0m \u001b[39mreturn\u001b[39;00m func(\u001b[39m*\u001b[39margs, \u001b[39m*\u001b[39m\u001b[39m*\u001b[39mkwargs)\n",
      "File \u001b[1;32mc:\\Users\\JTT\\AppData\\Local\\Programs\\Python\\Python39\\lib\\site-packages\\pandas\\io\\formats\\format.py:1189\u001b[0m, in \u001b[0;36mDataFrameRenderer.to_csv\u001b[1;34m(self, path_or_buf, encoding, sep, columns, index_label, mode, compression, quoting, quotechar, lineterminator, chunksize, date_format, doublequote, escapechar, errors, storage_options)\u001b[0m\n\u001b[0;32m   1168\u001b[0m     created_buffer \u001b[39m=\u001b[39m \u001b[39mFalse\u001b[39;00m\n\u001b[0;32m   1170\u001b[0m csv_formatter \u001b[39m=\u001b[39m CSVFormatter(\n\u001b[0;32m   1171\u001b[0m     path_or_buf\u001b[39m=\u001b[39mpath_or_buf,\n\u001b[0;32m   1172\u001b[0m     lineterminator\u001b[39m=\u001b[39mlineterminator,\n\u001b[1;32m   (...)\u001b[0m\n\u001b[0;32m   1187\u001b[0m     formatter\u001b[39m=\u001b[39m\u001b[39mself\u001b[39m\u001b[39m.\u001b[39mfmt,\n\u001b[0;32m   1188\u001b[0m )\n\u001b[1;32m-> 1189\u001b[0m csv_formatter\u001b[39m.\u001b[39;49msave()\n\u001b[0;32m   1191\u001b[0m \u001b[39mif\u001b[39;00m created_buffer:\n\u001b[0;32m   1192\u001b[0m     \u001b[39massert\u001b[39;00m \u001b[39misinstance\u001b[39m(path_or_buf, StringIO)\n",
      "File \u001b[1;32mc:\\Users\\JTT\\AppData\\Local\\Programs\\Python\\Python39\\lib\\site-packages\\pandas\\io\\formats\\csvs.py:261\u001b[0m, in \u001b[0;36mCSVFormatter.save\u001b[1;34m(self)\u001b[0m\n\u001b[0;32m    241\u001b[0m \u001b[39mwith\u001b[39;00m get_handle(\n\u001b[0;32m    242\u001b[0m     \u001b[39mself\u001b[39m\u001b[39m.\u001b[39mfilepath_or_buffer,\n\u001b[0;32m    243\u001b[0m     \u001b[39mself\u001b[39m\u001b[39m.\u001b[39mmode,\n\u001b[1;32m   (...)\u001b[0m\n\u001b[0;32m    249\u001b[0m \n\u001b[0;32m    250\u001b[0m     \u001b[39m# Note: self.encoding is irrelevant here\u001b[39;00m\n\u001b[0;32m    251\u001b[0m     \u001b[39mself\u001b[39m\u001b[39m.\u001b[39mwriter \u001b[39m=\u001b[39m csvlib\u001b[39m.\u001b[39mwriter(\n\u001b[0;32m    252\u001b[0m         handles\u001b[39m.\u001b[39mhandle,\n\u001b[0;32m    253\u001b[0m         lineterminator\u001b[39m=\u001b[39m\u001b[39mself\u001b[39m\u001b[39m.\u001b[39mlineterminator,\n\u001b[1;32m   (...)\u001b[0m\n\u001b[0;32m    258\u001b[0m         quotechar\u001b[39m=\u001b[39m\u001b[39mself\u001b[39m\u001b[39m.\u001b[39mquotechar,\n\u001b[0;32m    259\u001b[0m     )\n\u001b[1;32m--> 261\u001b[0m     \u001b[39mself\u001b[39;49m\u001b[39m.\u001b[39;49m_save()\n",
      "File \u001b[1;32mc:\\Users\\JTT\\AppData\\Local\\Programs\\Python\\Python39\\lib\\site-packages\\pandas\\io\\formats\\csvs.py:266\u001b[0m, in \u001b[0;36mCSVFormatter._save\u001b[1;34m(self)\u001b[0m\n\u001b[0;32m    264\u001b[0m \u001b[39mif\u001b[39;00m \u001b[39mself\u001b[39m\u001b[39m.\u001b[39m_need_to_save_header:\n\u001b[0;32m    265\u001b[0m     \u001b[39mself\u001b[39m\u001b[39m.\u001b[39m_save_header()\n\u001b[1;32m--> 266\u001b[0m \u001b[39mself\u001b[39;49m\u001b[39m.\u001b[39;49m_save_body()\n",
      "File \u001b[1;32mc:\\Users\\JTT\\AppData\\Local\\Programs\\Python\\Python39\\lib\\site-packages\\pandas\\io\\formats\\csvs.py:304\u001b[0m, in \u001b[0;36mCSVFormatter._save_body\u001b[1;34m(self)\u001b[0m\n\u001b[0;32m    302\u001b[0m \u001b[39mif\u001b[39;00m start_i \u001b[39m>\u001b[39m\u001b[39m=\u001b[39m end_i:\n\u001b[0;32m    303\u001b[0m     \u001b[39mbreak\u001b[39;00m\n\u001b[1;32m--> 304\u001b[0m \u001b[39mself\u001b[39;49m\u001b[39m.\u001b[39;49m_save_chunk(start_i, end_i)\n",
      "File \u001b[1;32mc:\\Users\\JTT\\AppData\\Local\\Programs\\Python\\Python39\\lib\\site-packages\\pandas\\io\\formats\\csvs.py:315\u001b[0m, in \u001b[0;36mCSVFormatter._save_chunk\u001b[1;34m(self, start_i, end_i)\u001b[0m\n\u001b[0;32m    312\u001b[0m data \u001b[39m=\u001b[39m [res\u001b[39m.\u001b[39miget_values(i) \u001b[39mfor\u001b[39;00m i \u001b[39min\u001b[39;00m \u001b[39mrange\u001b[39m(\u001b[39mlen\u001b[39m(res\u001b[39m.\u001b[39mitems))]\n\u001b[0;32m    314\u001b[0m ix \u001b[39m=\u001b[39m \u001b[39mself\u001b[39m\u001b[39m.\u001b[39mdata_index[slicer]\u001b[39m.\u001b[39m_format_native_types(\u001b[39m*\u001b[39m\u001b[39m*\u001b[39m\u001b[39mself\u001b[39m\u001b[39m.\u001b[39m_number_format)\n\u001b[1;32m--> 315\u001b[0m libwriters\u001b[39m.\u001b[39;49mwrite_csv_rows(\n\u001b[0;32m    316\u001b[0m     data,\n\u001b[0;32m    317\u001b[0m     ix,\n\u001b[0;32m    318\u001b[0m     \u001b[39mself\u001b[39;49m\u001b[39m.\u001b[39;49mnlevels,\n\u001b[0;32m    319\u001b[0m     \u001b[39mself\u001b[39;49m\u001b[39m.\u001b[39;49mcols,\n\u001b[0;32m    320\u001b[0m     \u001b[39mself\u001b[39;49m\u001b[39m.\u001b[39;49mwriter,\n\u001b[0;32m    321\u001b[0m )\n",
      "File \u001b[1;32mc:\\Users\\JTT\\AppData\\Local\\Programs\\Python\\Python39\\lib\\site-packages\\pandas\\_libs\\writers.pyx:72\u001b[0m, in \u001b[0;36mpandas._libs.writers.write_csv_rows\u001b[1;34m()\u001b[0m\n",
      "\u001b[1;31mKeyboardInterrupt\u001b[0m: "
     ]
    }
   ],
   "source": [
    "load_dotenv()\n",
    "\n",
    "filename = \"output_folder/reportData.csv\"\n",
    "\n",
    "\n",
    "address = 'mongodb://{user}:{password}@{host}:{port}'.format(\n",
    "    user= os.getenv('MONGO_USER'),\n",
    "    password= os.getenv('MONGO_PASSWORD'),\n",
    "    host= \"localhost\",\n",
    "    port= os.getenv('MONGO_PORT')\n",
    ")\n",
    "client = MongoClient(address)\n",
    "database=client[\"observertc-reports\"]\n",
    "reportsDatabase = database.reports\n",
    "\n",
    "dateStart = datetime(2022, 12, 22)\n",
    "dateEnd = datetime(2022, 12, 23)\n",
    "finalDate = datetime(2023, 1, 25)\n",
    "\n",
    "while (dateStart < finalDate):\n",
    "    \n",
    "\n",
    "    logging.info(f\"Starting query for date range {dateStart} to {dateEnd}.\")\n",
    "\n",
    "    queryTimeStart = dateStart.timestamp() * 1000\n",
    "    queryTimeEnd = dateEnd.timestamp() * 1000\n",
    "\n",
    "    query = {   \"type\": \"CLIENT_EXTENSION_DATA\", \n",
    "                \"payload.extensionType\" : \n",
    "                    { \"$in\" : [ \"OUT_BOUND_RTC\", \n",
    "                                \"IN_BOUND_RTC\", \n",
    "                                \"REMOTE_OUT_BOUND_RTC\", \n",
    "                                \"REMOTE_IN_BOUND_RTC\"]},\n",
    "                \"payload.userId\": \"\"\n",
    "                \"payload.timestamp\" : {\"$gt\": queryTimeStart},\n",
    "                \"payload.timestamp\" : {\"$lt\": queryTimeEnd}}\n",
    "\n",
    "    logging.info(f\"Query: {query}\")\n",
    "\n",
    "    cursor = reportsDatabase.find(query)\n",
    "    ##size = len(list(cursor))\n",
    "    #logging.info(f\"Got data from database, size: {size}, converting to data frame.\")\n",
    "\n",
    "    #logPoint = size/10\n",
    "    #i = 0\n",
    "    dataSet = []\n",
    "    for record in cursor:\n",
    "        \n",
    "        data = {}\n",
    "        #append timestamp to data\n",
    "        data[\"timestamp\"] = record[\"payload\"][\"timestamp\"]\n",
    "        data[\"callId\"] = record[\"payload\"][\"callId\"]\n",
    "        data[\"roomId\"] = record[\"payload\"][\"roomId\"]\n",
    "        data[\"clientId\"] = record[\"payload\"][\"clientId\"]\n",
    "        data[\"userId\"] = record[\"payload\"][\"userId\"]\n",
    "        data[\"sampleSeq\"] = record[\"payload\"][\"sampleSeq\"]\n",
    "\n",
    "        a = json.loads(record[\"payload\"][\"payload\"])\n",
    "\n",
    "        # https://stackoverflow.com/questions/38987/how-do-i-merge-two-dictionaries-in-a-single-expression\n",
    "        data = {**data, **a[\"stats\"]}\n",
    "\n",
    "\n",
    "\n",
    "        #if(i % logPoint == 0):\n",
    "        #    logging.info(f\"Processed {i}/{size} records.\")\n",
    "        dataSet.append(data)\n",
    "        \n",
    "\n",
    "        #i = i+1\n",
    "    if(len(dataSet) > 0):\n",
    "        newData = pd.DataFrame(dataSet)\n",
    "        newData[\"callId\"]=newData[\"callId\"].astype(str)\n",
    "        newData[\"roomId\"]=newData[\"roomId\"].astype(str)\n",
    "        newData[\"clientId\"]=newData[\"clientId\"].astype(str)\n",
    "        newData[\"userId\"]=newData[\"userId\"].astype(str)\n",
    "        newData.to_csv(filename, mode='w', header=True, index=False)\n",
    "\n",
    "    dateStart = dateEnd\n",
    "    # Add a day to the end date\n",
    "    dateEnd = dateEnd + timedelta(days=1)\n",
    "    "
   ]
  }
 ],
 "metadata": {
  "kernelspec": {
   "display_name": "Python 3",
   "language": "python",
   "name": "python3"
  },
  "language_info": {
   "codemirror_mode": {
    "name": "ipython",
    "version": 3
   },
   "file_extension": ".py",
   "mimetype": "text/x-python",
   "name": "python",
   "nbconvert_exporter": "python",
   "pygments_lexer": "ipython3",
   "version": "3.9.1"
  },
  "pycharm": {
   "stem_cell": {
    "cell_type": "raw",
    "metadata": {
     "collapsed": false
    },
    "source": [
     "\n",
     "\n",
     "\n",
     "\n"
    ]
   }
  },
  "vscode": {
   "interpreter": {
    "hash": "735cbb64c6f33b2d3af11b1f5c3709c6b8b8827e91f2b991e330f5d3f3bd728b"
   }
  }
 },
 "nbformat": 4,
 "nbformat_minor": 0
}
