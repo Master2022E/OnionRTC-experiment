{
 "cells": [
  {
   "attachments": {},
   "cell_type": "markdown",
   "metadata": {
    "collapsed": false
   },
   "source": [
    "# Receive bandwidth data extraction\n",
    "\n",
    "The data is stored in the Prometheus and this script will query prometheus for the specific time slots were a successful call were done, calculate the average used bandwidth and save that as a data point in a csv file."
   ]
  },
  {
   "cell_type": "code",
   "execution_count": null,
   "metadata": {},
   "outputs": [],
   "source": [
    "import sys\n",
    "from datetime import datetime, timedelta\n",
    "from pymongo import MongoClient\n",
    "import pandas as pd\n",
    "import os\n",
    "import json\n",
    "import logging\n",
    "import helperFunctions as hf\n",
    "import numpy as np\n",
    "import requests\n",
    "\n",
    "hf.setup()\n",
    "\n",
    "outputFolder = \"output_folder/\"\n",
    "outputFile = outputFolder + \"SuccessfulCallsUsedReceiveBandwidth.csv\"\n",
    "outputFileValues = outputFolder + \"SuccessfulCallsUsedReceiveBandwidthValues.csv\"\n",
    "\n",
    "\n",
    "if not os.path.exists(outputFolder):\n",
    "\n",
    "   # Create a new directory because it does not exist\n",
    "   os.makedirs(outputFolder)\n",
    "   logging.info(f\"The directory \\\"{outputFolder}\\\" is created!\")\n",
    "\n",
    "if os.path.exists(outputFile):\n",
    "   os.remove(outputFile)\n",
    "\n",
    "if os.path.exists(outputFileValues):\n",
    "   os.remove(outputFileValues)"
   ]
  },
  {
   "cell_type": "code",
   "execution_count": null,
   "metadata": {
    "collapsed": false
   },
   "outputs": [],
   "source": [
    "callsDf = pd.read_csv(outputFolder + \"SuccessfulCallsStartAndEnd.csv\")\n",
    "\n",
    "scenarios = callsDf[\"scenario\"].unique()\n",
    "for scenario in scenarios:\n",
    "\n",
    "  scenarioDf = callsDf.loc[callsDf[\"scenario\"] == scenario]\n",
    "  count = len(scenarioDf)\n",
    "  logging.info(f\"scenarioDf {scenario} has {count} records\")\n",
    "\n",
    "  for index, row in scenarioDf.iterrows():\n",
    "\n",
    "    roomId = row[\"roomId\"]\n",
    "    client = row[\"client\"]\n",
    "    start = row[\"start\"]\n",
    "    end = row[\"end\"]\n",
    "\n",
    "    if(client == \"CnC\"):\n",
    "      continue\n",
    "\n",
    "    # Get the bandwidth data for the client\n",
    "    instance = hf.getInstance(client)\n",
    "    if(instance == None):\n",
    "      logging.error(f\"Could not find instance for client {client}\")\n",
    "      continue\n",
    "\n",
    "    start = datetime.strptime(start, \"%Y-%m-%d %H:%M:%S.%f\")\n",
    "    if(start < datetime(2023, 1, 6)):\n",
    "      continue\n",
    "    start = start.strftime(\"%Y-%m-%dT%H:%M:%S.%fZ\")\n",
    "    end = datetime.strptime(end, \"%Y-%m-%d %H:%M:%S.%f\")\n",
    "    end = end.strftime(\"%Y-%m-%dT%H:%M:%S.%fZ\")\n",
    "\n",
    "    query = \"/api/v1/query_range?query=irate(node_network_receive_bytes_total{instance=\\\"\"+ instance + \"\\\", device=\\\"eth0\\\"}[1m]) * 8&start=\" + start + \"&end=\" + end + \"&step=15s\"\n",
    "\n",
    "    url = \"http://localhost:9090\" + query\n",
    "\n",
    "    response = requests.request(\"GET\", url, headers={}, data={})\n",
    "\n",
    "    \n",
    "\n",
    "    if(response.status_code == 200):\n",
    "      try:\n",
    "        values = json.loads(response.text)[\"data\"][\"result\"][0][\"values\"]\n",
    "        data = pd.DataFrame(columns=[\"scenario\", \"roomId\", \"client\", \"time\", \"bps\"], data=[[scenario, roomId, client, x[0], x[1]] for x in values])\n",
    "\n",
    "        hdr = False  if os.path.isfile(outputFileValues) else True\n",
    "        data.to_csv(outputFileValues, index=False, mode=\"a\", header=hdr)\n",
    "        \n",
    "        # find average of bps\n",
    "        data[\"bps\"] = data[\"bps\"].astype(float)\n",
    "        average = data[\"bps\"].mean()\n",
    "\n",
    "        data = pd.DataFrame(columns=[\"scenario\", \"roomId\", \"client\", \"bps\"], data=[[scenario, roomId, client, average]])\n",
    "\n",
    "\n",
    "        hdr = False  if os.path.isfile(outputFile) else True\n",
    "        data.to_csv(outputFile, index=False, mode=\"a\", header=hdr)\n",
    "\n",
    "      except:\n",
    "        continue\n",
    "\n",
    "logging.info(\"Finished!\")\n",
    "      \n"
   ]
  }
 ],
 "metadata": {
  "kernelspec": {
   "display_name": "Python 3",
   "language": "python",
   "name": "python3"
  },
  "language_info": {
   "codemirror_mode": {
    "name": "ipython",
    "version": 3
   },
   "file_extension": ".py",
   "mimetype": "text/x-python",
   "name": "python",
   "nbconvert_exporter": "python",
   "pygments_lexer": "ipython3",
   "version": "3.9.1"
  },
  "pycharm": {
   "stem_cell": {
    "cell_type": "raw",
    "metadata": {
     "collapsed": false
    },
    "source": [
     "\n",
     "\n",
     "\n",
     "\n"
    ]
   }
  },
  "vscode": {
   "interpreter": {
    "hash": "735cbb64c6f33b2d3af11b1f5c3709c6b8b8827e91f2b991e330f5d3f3bd728b"
   }
  }
 },
 "nbformat": 4,
 "nbformat_minor": 0
}
