{
 "cells": [
  {
   "cell_type": "markdown",
   "source": [
    "# Call stats\n",
    "\n",
    "This is a test notebook with statistics and numbers from a call between the two clients `0340b10c-cfe2-4604-a7e7-368a9326f84d` and `3a3e2b7b-c987-4049-8e96-584bb600a1da` in room `1234567890`.\n"
   ],
   "metadata": {
    "collapsed": false
   }
  },
  {
   "cell_type": "code",
   "execution_count": 1,
   "outputs": [
    {
     "name": "stdout",
     "output_type": "stream",
     "text": [
      "Requirement already satisfied: pymongo in c:\\users\\jtt\\documents\\git\\onionrtc-experiment\\venv\\lib\\site-packages (4.3.2)\n",
      "Requirement already satisfied: dnspython<3.0.0,>=1.16.0 in c:\\users\\jtt\\documents\\git\\onionrtc-experiment\\venv\\lib\\site-packages (from pymongo) (2.2.1)\n"
     ]
    }
   ],
   "source": [
    "!pip install pymongo"
   ],
   "metadata": {
    "collapsed": false
   }
  },
  {
   "cell_type": "code",
   "execution_count": 2,
   "outputs": [],
   "source": [
    "roomId = \"1234567890\"\n",
    "client1 = \"0340b10c-cfe2-4604-a7e7-368a9326f84d\"\n",
    "client2 = \"3a3e2b7b-c987-4049-8e96-584bb600a1da\""
   ],
   "metadata": {
    "collapsed": false
   }
  },
  {
   "cell_type": "code",
   "execution_count": 9,
   "outputs": [],
   "source": [
    "\n",
    "from pymongo import MongoClient\n",
    "from datetime import datetime, timedelta\n",
    "from dotenv import load_dotenv\n",
    "import os\n",
    "import time\n",
    "import json\n",
    "\n",
    "# Loads the .env file from the local path\n",
    "load_dotenv()\n",
    "\n",
    "address = 'mongodb://{user}:{password}@{host}:{port}'.format(\n",
    "    user= os.getenv('MONGO_USER'),\n",
    "    password= os.getenv('MONGO_PASSWORD'),\n",
    "    host= os.getenv('MONGO_HOST'),\n",
    "    port= os.getenv('MONGO_PORT')\n",
    ")\n",
    "\n",
    "client = MongoClient(address)\n",
    "database=client[\"observertc-reports\"]\n",
    "\n",
    "# the collection we want to query\n",
    "reportsDatabase = database.reports\n",
    "\n",
    "\n",
    "cursor = reportsDatabase.find({ \"type\": \"CLIENT_EXTENSION_DATA\", \"payload.extensionType\" : \"OUT_BOUND_RTC\" , \"payload.roomId\" : roomId, \"payload.clientId\" : client1})\n",
    "\n",
    "outBound = []\n",
    "for record in cursor:\n",
    "    a = json.loads(record[\"payload\"][\"payload\"])\n",
    "    outBound.append(a[\"stats\"])\n"
   ],
   "metadata": {
    "collapsed": false
   }
  },
  {
   "cell_type": "code",
   "execution_count": null,
   "outputs": [],
   "source": [],
   "metadata": {
    "collapsed": false,
    "pycharm": {
     "is_executing": true
    }
   }
  },
  {
   "cell_type": "code",
   "execution_count": 7,
   "outputs": [],
   "source": [],
   "metadata": {
    "collapsed": false
   }
  }
 ],
 "metadata": {
  "kernelspec": {
   "display_name": "Python 3",
   "language": "python",
   "name": "python3"
  },
  "language_info": {
   "codemirror_mode": {
    "name": "ipython",
    "version": 2
   },
   "file_extension": ".py",
   "mimetype": "text/x-python",
   "name": "python",
   "nbconvert_exporter": "python",
   "pygments_lexer": "ipython2",
   "version": "2.7.6"
  },
  "pycharm": {
   "stem_cell": {
    "cell_type": "raw",
    "source": [
     "\n",
     "\n",
     "\n",
     "\n"
    ],
    "metadata": {
     "collapsed": false
    }
   }
  }
 },
 "nbformat": 4,
 "nbformat_minor": 0
}
