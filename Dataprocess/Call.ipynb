{
 "cells": [
  {
   "cell_type": "markdown",
   "metadata": {},
   "source": [
    "# Calls\n",
    "\n",
    "List the calls"
   ]
  },
  {
   "cell_type": "code",
   "execution_count": null,
   "metadata": {},
   "outputs": [],
   "source": [
    "from pymongo import MongoClient\n",
    "from datetime import datetime, timedelta\n",
    "from dotenv import load_dotenv\n",
    "import os\n",
    "import time\n",
    "\n",
    "# Loads the .env file from the local path\n",
    "load_dotenv()\n",
    "\n",
    "address = 'mongodb://{user}:{password}@{host}:{port}'.format(\n",
    "    user= os.getenv('MONGO_USER'),\n",
    "    password= os.getenv('MONGO_PASSWORD'),\n",
    "    host= os.getenv('MONGO_HOST'),\n",
    "    port= os.getenv('MONGO_PORT')\n",
    ")\n",
    "\n",
    "client = MongoClient(address)\n",
    "database=client[\"observertc-reports\"]\n",
    "\n",
    "# the collection we want to query\n",
    "reportsDatabase = database.reports\n",
    "\n",
    "# print('connected to %s' % address)\n",
    "\n",
    "cursor = reportsDatabase.find( { \"type\": \"CALL_EVENT\", \"payload.name\": { \"$in\": [\"CLIENT_JOINED\", \"CLIENT_LEFT\"] } } )\n",
    "\n",
    "def ticks_to_datetime(ticks):\n",
    "    s, ms = divmod(ticks, 1000)\n",
    "    return '{}.{:03d}'.format(time.strftime('%Y-%m-%d %H:%M:%S', time.gmtime(s)), ms)\n",
    "\n",
    "rooms = {}\n",
    "for record in cursor:\n",
    "    callEvent = record[\"payload\"]\n",
    "\n",
    "    roomId = callEvent[\"roomId\"]\n",
    "    callId = callEvent[\"callId\"]\n",
    "    userId = callEvent['userId']\n",
    "    clientId = callEvent['clientId']\n",
    "    timestamp = callEvent['timestamp']\n",
    "\n",
    "    calls = rooms.get(roomId, {})\n",
    "    clients = calls.get(callId, {})\n",
    "    client = clients.get(clientId, {\n",
    "        \"clientId\": clientId,\n",
    "        \"userId\": userId\n",
    "    })\n",
    "    \n",
    "    if callEvent[\"name\"] == \"CLIENT_JOINED\":\n",
    "        client.update({ \"joined\": timestamp })\n",
    "    else:\n",
    "        client.update({ \"left\": timestamp })\n",
    "    \n",
    "    clients[clientId] = client\n",
    "    calls[callId] = clients\n",
    "    rooms[roomId] = calls\n",
    "\n",
    "for room in rooms.items():\n",
    "    roomId, calls = room\n",
    "    print('\\nRoom: %s\\n--------' % roomId)\n",
    "    for call in calls.items():\n",
    "        callId, clients = call\n",
    "        print('\\nCall %s' % callId)\n",
    "        for client in clients.values():\n",
    "            try:\n",
    "                userId, clientId, joined = client[\"userId\"], client[\"clientId\"], client[\"joined\"]\n",
    "                left = client.get(\"left\", int(time.time() * 1000))\n",
    "                duration = (left - joined) / (60 * 1000)\n",
    "                print(  f\"\\n\\tUserId: {userId}\" +\n",
    "                        f\"\\n\\tClientId: {clientId}\" +\n",
    "                        f\"\\n\\tJoined: {joined} {ticks_to_datetime(joined)}\" + \n",
    "                        f\"\\n\\tLeft: {left} {ticks_to_datetime(left)}\" +\n",
    "                        f\"\\n\\tDuration: {duration} min\")\n",
    "            except Exception as e:\n",
    "                #print(e)\n",
    "                #print(\"Missing keys in call information\", client)\n",
    "                pass"
   ]
  },
  {
   "cell_type": "markdown",
   "metadata": {},
   "source": [
    "## Max concurrent streams through SFU over time\n",
    "This function expects there to be a unique Room id for each call"
   ]
  },
  {
   "cell_type": "code",
   "execution_count": null,
   "metadata": {},
   "outputs": [],
   "source": [
    "# Match all tracks connected to an sfu\n",
    "stage_match = {\n",
    "    \"$match\": {\n",
    "        \"$or\": [{ \"type\": \"INBOUND_VIDEO_TRACK\" }, { \"type\": \"INBOUND_AUDIO_TRACK\" },\n",
    "                { \"type\": \"OUTBOUND_VIDEO_TRACK\" }, { \"type\": \"OUTBOUND_AUDIO_TRACK\" }],\n",
    "        \"$or\": [{\"payload.sfuStreamId\": { \"$exists\" : True }}, \n",
    "                {\"payload.sfuSinkId\": { \"$exists\" : True }, \"payload.sfuStreamId\": { \"$exists\" : True }}]\n",
    "   }\n",
    "}\n",
    "# group by clients\n",
    "stage_group = {\n",
    "   \"$group\": {\n",
    "         \"_id\": {\n",
    "             \"clientId\": \"$payload.clientId\",\n",
    "             \"sfuSinkId\": \"$payload.sfuSinkId\",\n",
    "             \"sfuStreamId\": \"$payload.sfuStreamId\"\n",
    "          },\n",
    "           \"reportsNum\": { \"$sum\": 1 }, \n",
    "   }\n",
    "}\n",
    "\n",
    "# the pipeline\n",
    "pipeline = [\n",
    "   stage_match, \n",
    "   stage_group,\n",
    "]\n",
    "\n",
    "cursor = reportsDatabase.aggregate(pipeline)\n",
    "print(\"number of concurrent sfu streams\", len(list(cursor)))"
   ]
  }
 ],
 "metadata": {
  "kernelspec": {
   "display_name": "Python 3.9.1 64-bit",
   "language": "python",
   "name": "python3"
  },
  "language_info": {
   "codemirror_mode": {
    "name": "ipython",
    "version": 3
   },
   "file_extension": ".py",
   "mimetype": "text/x-python",
   "name": "python",
   "nbconvert_exporter": "python",
   "pygments_lexer": "ipython3",
   "version": "3.9.1"
  },
  "vscode": {
   "interpreter": {
    "hash": "735cbb64c6f33b2d3af11b1f5c3709c6b8b8827e91f2b991e330f5d3f3bd728b"
   }
  }
 },
 "nbformat": 4,
 "nbformat_minor": 2
}
