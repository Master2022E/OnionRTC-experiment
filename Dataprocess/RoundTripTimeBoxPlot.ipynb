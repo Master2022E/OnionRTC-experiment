{
 "cells": [
  {
   "attachments": {},
   "cell_type": "markdown",
   "metadata": {
    "collapsed": false
   },
   "source": [
    "# Round trip time box plots\n",
    "\n",
    "For each scenario get all successful calls and divide data on clientIDs i.e. db.calls.find({\"scenario_type\": \"1\",\"client_username\": \"d1_Normal\", \"state\": \"call_ended\"})\n",
    "\n",
    "For all the client ids, find all the reports data where it's either RemoteInbound or RemoteOutbound RTT. Add this data field to the data frame of the given scenario and client type (Alice or Bob)."
   ]
  },
  {
   "cell_type": "code",
   "execution_count": 1,
   "metadata": {},
   "outputs": [],
   "source": [
    "import sys\n",
    "from dotenv import load_dotenv\n",
    "from datetime import datetime, timedelta\n",
    "import pandas as pd\n",
    "import os\n",
    "import json\n",
    "import logging\n",
    "import matplotlib.pyplot as plt\n",
    "from helperFunctions import getScenarioLabels\n",
    "\n",
    "logging.basicConfig(\n",
    "  format=f'%(asctime)s %(levelname)-8s %(message)s ',\n",
    "  level=logging.INFO,\n",
    "  datefmt='%Y-%m-%d %H:%M:%S',\n",
    "  handlers=[\n",
    "  logging.StreamHandler(sys.stdout)\n",
    "  ])\n",
    "\n",
    "callAndOutcomeFile = \"output_folder/UniqueCallsAndOutcomes.csv\"\n",
    "outputFolder = \"output_folder/\"\n",
    "\n",
    "\n",
    "if not os.path.exists(outputFolder):\n",
    "\n",
    "   # Create a new directory because it does not exist\n",
    "   os.makedirs(outputFolder)\n",
    "   logging.info(f\"The directory \\\"{outputFolder}\\\" is created!\")"
   ]
  },
  {
   "cell_type": "code",
   "execution_count": 2,
   "metadata": {
    "collapsed": false
   },
   "outputs": [
    {
     "name": "stdout",
     "output_type": "stream",
     "text": [
      "2023-01-26 15:06:05 INFO     shape of calls: (23513, 14) \n",
      "2023-01-26 15:06:05 INFO     shape of success full calls: (19064, 14) \n",
      "2023-01-26 15:06:05 INFO     {'scenario': 1, 'alice': 'c1-Normal', 'bob': 'd1-Normal'} \n",
      "2023-01-26 15:06:05 INFO     Starting on scenario 1, alice: c1-Normal, bob: d1-Normal \n",
      "2023-01-26 15:06:11 INFO     {'scenario': 2, 'alice': 'c2-TorNormal', 'bob': 'd2-TorNormal'} \n",
      "2023-01-26 15:06:11 INFO     Starting on scenario 2, alice: c2-TorNormal, bob: d2-TorNormal \n",
      "2023-01-26 15:06:15 INFO     {'scenario': 3, 'alice': 'c3-TorEurope', 'bob': 'd3-TorEurope'} \n",
      "2023-01-26 15:06:15 INFO     Starting on scenario 3, alice: c3-TorEurope, bob: d3-TorEurope \n",
      "2023-01-26 15:06:20 INFO     plotDf:       scenario        client    RTT\n",
      "0            1     c1-Normal  0.032\n",
      "1            1     c1-Normal  0.018\n",
      "2            1     c1-Normal  0.021\n",
      "3            1     c1-Normal  0.025\n",
      "4            1     c1-Normal  0.017\n",
      "...        ...           ...    ...\n",
      "76688        3  d3-TorEurope  0.662\n",
      "76689        3  d3-TorEurope  0.623\n",
      "76690        3  d3-TorEurope  0.521\n",
      "76691        3  d3-TorEurope  0.707\n",
      "76692        3  d3-TorEurope  0.455\n",
      "\n",
      "[76693 rows x 3 columns] \n"
     ]
    }
   ],
   "source": [
    "plotDf = pd.DataFrame(columns=[\"scenario\", \"client\", \"RTT\"])\n",
    "\n",
    "callsDf = pd.read_csv(callAndOutcomeFile)\n",
    "\n",
    "logging.info(f\"shape of calls: {callsDf.shape}\")\n",
    "\n",
    "# filter for calls with state success\n",
    "successCallsDf = callsDf.loc[callsDf[\"logging_type\"] == \"COMMAND_SESSION_SUCCESS\"]\n",
    "\n",
    "logging.info(f\"shape of success full calls: {successCallsDf.shape}\")\n",
    "\n",
    "scenarios = [\n",
    "  {\n",
    "    \"scenario\": 1,\n",
    "    \"alice\": \"c1-Normal\",\n",
    "    \"bob\": \"d1-Normal\"\n",
    "  },{\n",
    "    \"scenario\": 2,\n",
    "    \"alice\": \"c2-TorNormal\",\n",
    "    \"bob\": \"d2-TorNormal\"\n",
    "  },{\n",
    "    \"scenario\": 3,\n",
    "    \"alice\": \"c3-TorEurope\",\n",
    "    \"bob\": \"d3-TorEurope\"\n",
    "  }\n",
    "]\n",
    "\n",
    "for scenario in scenarios:\n",
    "  logging.info(scenario)\n",
    "  s = scenario[\"scenario\"]\n",
    "  a = scenario[\"alice\"]\n",
    "  b = scenario[\"bob\"]\n",
    "  logging.info(f\"Starting on scenario {s}, alice: {a}, bob: {b}\")\n",
    "\n",
    "  # filter for calls with scenario_type s\n",
    "  scenarioCallsDf = successCallsDf.loc[successCallsDf[\"scenario_type\"] == s]\n",
    "\n",
    "  # get list of room_ids in scenarioCallsDf\n",
    "  roomIds = scenarioCallsDf[\"room_id\"].unique()\n",
    "\n",
    "  reportForClientA = pd.read_csv(f\"output_folder/rawReport/{a}.csv\")\n",
    "  reportForClientA = reportForClientA[(reportForClientA[\"type\"] == \"remote-inbound-rtp\") & (reportForClientA[\"roomId\"].isin(roomIds)) & (reportForClientA[\"mediaType\"] == \"video\") ]\n",
    "  dataA = pd.DataFrame(columns=[\"scenario\", \"client\", \"RTT\"]).assign(RTT=reportForClientA[\"roundTripTime\"])\n",
    "  dataA = dataA.assign(scenario=s, client=a)\n",
    "\n",
    "  reportForClientB = pd.read_csv(f\"output_folder/rawReport/{b}.csv\")\n",
    "  reportForClientB = reportForClientB[(reportForClientB[\"type\"] == \"remote-inbound-rtp\") & (reportForClientB[\"roomId\"].isin(roomIds)) & (reportForClientB[\"mediaType\"] == \"video\") ]\n",
    "  dataB = pd.DataFrame(columns=[\"scenario\", \"client\", \"RTT\"]).assign(RTT=reportForClientB[\"roundTripTime\"])\n",
    "  dataB = dataB.assign(scenario=s, client=b)\n",
    "\n",
    "  plotDf = pd.concat([plotDf, dataA, dataB], ignore_index=True)\n",
    "\n",
    "logging.info(f\"plotDf: {plotDf}\")\n",
    "\n",
    "# save plotDf to csv\n",
    "plotDf.to_csv(f\"{outputFolder}/plotDf.csv\",index=False, header=True, encoding='utf-8', mode='w')\n"
   ]
  },
  {
   "cell_type": "code",
   "execution_count": 3,
   "metadata": {},
   "outputs": [
    {
     "data": {
      "image/png": "[encoded data removed]",
      "text/plain": [
       "<Figure size 1440x720 with 1 Axes>"
      ]
     },
     "metadata": {
      "needs_background": "light"
     },
     "output_type": "display_data"
    }
   ],
   "source": [
    "plotDf.boxplot(column=\"RTT\", by=[\"scenario\", \"client\"], grid=False, showmeans=True, meanline=True, showfliers=False, figsize=(20,10))\n",
    "plt.title(\"RTT of Video Calls\")\n",
    "plt.xlabel(\"Scenario Type\")\n",
    "plt.ylabel(\"RTT\", rotation=0, labelpad=50)\n",
    "\n",
    "labels = getScenarioLabels(plotDf[\"scenario\"].unique())\n",
    "plt.xticks(range(len(labels)), labels, rotation=45, )\n",
    "#plt.yticks(range(0, 100, 10))\n",
    "\n",
    "# set size of plot\n",
    "#plt.rcParams[\"figure.figsize\"] = (20,5)\n",
    "\n",
    "# set grid on x-axis in plot\n",
    "#plt.grid(axis='y', linestyle='--', linewidth=0.5)\n",
    "\n",
    "\n",
    "#plt.legend(fontsize=10)\n",
    "#plt.legend(loc='center left', bbox_to_anchor=(1, 0.5))\n",
    "\n",
    "\n",
    "#plt.savefig(\"output_folder/SuccessOrFail.png\", format=\"png\", bbox_inches='tight', transparent=False, dpi=600, pad_inches=0.1, facecolor='w', edgecolor='w')\n",
    "#plt.savefig(\"output_folder/SuccessOrFail.svg\", format=\"svg\", bbox_inches='tight', transparent=False, dpi=600, pad_inches=0.1, facecolor='w', edgecolor='w')\n",
    "plt.show()"
   ]
  }
 ],
 "metadata": {
  "kernelspec": {
   "display_name": "Python 3",
   "language": "python",
   "name": "python3"
  },
  "language_info": {
   "codemirror_mode": {
    "name": "ipython",
    "version": 3
   },
   "file_extension": ".py",
   "mimetype": "text/x-python",
   "name": "python",
   "nbconvert_exporter": "python",
   "pygments_lexer": "ipython3",
   "version": "3.9.1"
  },
  "pycharm": {
   "stem_cell": {
    "cell_type": "raw",
    "metadata": {
     "collapsed": false
    },
    "source": [
     "\n",
     "\n",
     "\n",
     "\n"
    ]
   }
  },
  "vscode": {
   "interpreter": {
    "hash": "735cbb64c6f33b2d3af11b1f5c3709c6b8b8827e91f2b991e330f5d3f3bd728b"
   }
  }
 },
 "nbformat": 4,
 "nbformat_minor": 0
}
